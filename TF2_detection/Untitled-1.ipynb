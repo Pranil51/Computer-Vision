{
 "cells": [
  {
   "cell_type": "code",
   "execution_count": 1,
   "metadata": {},
   "outputs": [
    {
     "name": "stdout",
     "output_type": "stream",
     "text": [
      "hello\n"
     ]
    }
   ],
   "source": [
    "print('hello')"
   ]
  },
  {
   "cell_type": "code",
   "execution_count": null,
   "metadata": {},
   "outputs": [],
   "source": [
    "import object_detection\n"
   ]
  },
  {
   "cell_type": "code",
   "execution_count": 4,
   "metadata": {},
   "outputs": [],
   "source": [
    "import cv2"
   ]
  },
  {
   "cell_type": "code",
   "execution_count": 9,
   "metadata": {},
   "outputs": [],
   "source": [
    "from object_detection.utils import visualization_utils as viz_utils"
   ]
  },
  {
   "cell_type": "code",
   "execution_count": 10,
   "metadata": {},
   "outputs": [],
   "source": [
    "from object_detection.utils import label_map_util\n"
   ]
  },
  {
   "cell_type": "code",
   "execution_count": 1,
   "metadata": {},
   "outputs": [
    {
     "data": {
      "text/plain": [
       "'2.10.1'"
      ]
     },
     "execution_count": 1,
     "metadata": {},
     "output_type": "execute_result"
    }
   ],
   "source": [
    "import tensorflow as tf\n",
    "tf.__version__"
   ]
  },
  {
   "cell_type": "code",
   "execution_count": 15,
   "metadata": {},
   "outputs": [],
   "source": [
    "import pedestrain_detector"
   ]
  },
  {
   "cell_type": "code",
   "execution_count": 19,
   "metadata": {},
   "outputs": [
    {
     "ename": "NameError",
     "evalue": "name 'label_map_util' is not defined",
     "output_type": "error",
     "traceback": [
      "\u001b[1;31m---------------------------------------------------------------------------\u001b[0m",
      "\u001b[1;31mNameError\u001b[0m                                 Traceback (most recent call last)",
      "Cell \u001b[1;32mIn[19], line 3\u001b[0m\n\u001b[0;32m      1\u001b[0m \u001b[39mimport\u001b[39;00m \u001b[39mpedestrain_detector\u001b[39;00m\n\u001b[0;32m      2\u001b[0m \u001b[39m# from object_detection.utils import label_map_util\u001b[39;00m\n\u001b[1;32m----> 3\u001b[0m detector\u001b[39m=\u001b[39mpedestrain_detector\u001b[39m.\u001b[39;49mPedestrianDetector(path_to_model\u001b[39m=\u001b[39;49m\u001b[39mr\u001b[39;49m\u001b[39m'\u001b[39;49m\u001b[39mC:\u001b[39;49m\u001b[39m\\\u001b[39;49m\u001b[39mUsers\u001b[39;49m\u001b[39m\\\u001b[39;49m\u001b[39m91805\u001b[39;49m\u001b[39m\\\u001b[39;49m\u001b[39mTF2_detection\u001b[39;49m\u001b[39m\\\u001b[39;49m\u001b[39mexported-models\u001b[39;49m\u001b[39m\\\u001b[39;49m\u001b[39mmy-faster-rcnn\u001b[39;49m\u001b[39m\\\u001b[39;49m\u001b[39msaved_model\u001b[39;49m\u001b[39m'\u001b[39;49m,\n\u001b[0;32m      4\u001b[0m                                         path_to_label_map\u001b[39m=\u001b[39;49m\u001b[39mr\u001b[39;49m\u001b[39m'\u001b[39;49m\u001b[39mC:\u001b[39;49m\u001b[39m\\\u001b[39;49m\u001b[39mUsers\u001b[39;49m\u001b[39m\\\u001b[39;49m\u001b[39m91805\u001b[39;49m\u001b[39m\\\u001b[39;49m\u001b[39mTF2_detection\u001b[39;49m\u001b[39m\\\u001b[39;49m\u001b[39mexported-models\u001b[39;49m\u001b[39m\\\u001b[39;49m\u001b[39mmy-faster-rcnn\u001b[39;49m\u001b[39m\\\u001b[39;49m\u001b[39mlabel_map.pbtxt\u001b[39;49m\u001b[39m'\u001b[39;49m)\n\u001b[0;32m      5\u001b[0m detection_img\u001b[39m=\u001b[39mdetector\u001b[39m.\u001b[39mdetect_from_img(\u001b[39mr\u001b[39m\u001b[39m'\u001b[39m\u001b[39mC:\u001b[39m\u001b[39m\\\u001b[39m\u001b[39mUsers\u001b[39m\u001b[39m\\\u001b[39m\u001b[39m91805\u001b[39m\u001b[39m\\\u001b[39m\u001b[39mTF2_detection\u001b[39m\u001b[39m\\\u001b[39m\u001b[39muploads\u001b[39m\u001b[39m\\\u001b[39m\u001b[39mCrossWalk_(5465840138).jpg\u001b[39m\u001b[39m'\u001b[39m)\n\u001b[0;32m      6\u001b[0m cv2\u001b[39m.\u001b[39mimshow(detection_img)\n",
      "File \u001b[1;32mc:\\Users\\91805\\TF2_detection\\pedestrain_detector.py:6\u001b[0m, in \u001b[0;36mPedestrianDetector.__init__\u001b[1;34m(self, path_to_model, path_to_label_map, threshold)\u001b[0m\n\u001b[0;32m      4\u001b[0m \u001b[39mself\u001b[39m\u001b[39m.\u001b[39mpath_to_label_map\u001b[39m=\u001b[39mpath_to_label_map\n\u001b[0;32m      5\u001b[0m \u001b[39mself\u001b[39m\u001b[39m.\u001b[39mthreshold\u001b[39m=\u001b[39mthreshold\n\u001b[1;32m----> 6\u001b[0m \u001b[39mself\u001b[39m\u001b[39m.\u001b[39mcategory_index\u001b[39m=\u001b[39mlabel_map_util\u001b[39m.\u001b[39mcreate_category_index_from_labelmap(path_to_label_map,\n\u001b[0;32m      7\u001b[0m                                                                 use_display_name\u001b[39m=\u001b[39m\u001b[39mTrue\u001b[39;00m)\n\u001b[0;32m      8\u001b[0m tf\u001b[39m.\u001b[39mkeras\u001b[39m.\u001b[39mbackend\u001b[39m.\u001b[39mclear_session()\n\u001b[0;32m      9\u001b[0m \u001b[39mself\u001b[39m\u001b[39m.\u001b[39mdetect_fn\u001b[39m=\u001b[39mtf\u001b[39m.\u001b[39msaved_model\u001b[39m.\u001b[39mload(path_to_model)\n",
      "\u001b[1;31mNameError\u001b[0m: name 'label_map_util' is not defined"
     ]
    }
   ],
   "source": [
    "import pedestrain_detector\n",
    "# from object_detection.utils import label_map_util\n",
    "detector=pedestrain_detector.PedestrianDetector(path_to_model=r'C:\\Users\\91805\\TF2_detection\\exported-models\\my-faster-rcnn\\saved_model',\n",
    "                                        path_to_label_map=r'C:\\Users\\91805\\TF2_detection\\exported-models\\my-faster-rcnn\\label_map.pbtxt')\n",
    "detection_img=detector.detect_from_img(r'C:\\Users\\91805\\TF2_detection\\uploads\\CrossWalk_(5465840138).jpg')\n",
    "cv2.imshow(detection_img)"
   ]
  },
  {
   "cell_type": "code",
   "execution_count": null,
   "metadata": {},
   "outputs": [],
   "source": []
  }
 ],
 "metadata": {
  "kernelspec": {
   "display_name": "tf2_env",
   "language": "python",
   "name": "python3"
  },
  "language_info": {
   "codemirror_mode": {
    "name": "ipython",
    "version": 3
   },
   "file_extension": ".py",
   "mimetype": "text/x-python",
   "name": "python",
   "nbconvert_exporter": "python",
   "pygments_lexer": "ipython3",
   "version": "3.10.0"
  },
  "orig_nbformat": 4
 },
 "nbformat": 4,
 "nbformat_minor": 2
}
